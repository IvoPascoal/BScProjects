{
  "nbformat": 4,
  "nbformat_minor": 0,
  "metadata": {
    "colab": {
      "name": "TPC0.ipynb",
      "version": "0.3.2",
      "provenance": [],
      "collapsed_sections": [],
      "include_colab_link": true
    },
    "kernelspec": {
      "display_name": "Python 3",
      "language": "python",
      "name": "python3"
    }
  },
  "cells": [
    {
      "cell_type": "markdown",
      "metadata": {
        "id": "view-in-github",
        "colab_type": "text"
      },
      "source": [
        "[View in Colaboratory](https://colab.research.google.com/github/IvoPascoal/IvoP_20160462/blob/master/TPC0.ipynb)"
      ]
    },
    {
      "metadata": {
        "id": "26Ru3biIzC4I",
        "colab_type": "text"
      },
      "cell_type": "markdown",
      "source": [
        "# Aula 4 - Introdução ao Python para DataScientists\n",
        "\n",
        "---"
      ]
    },
    {
      "metadata": {
        "collapsed": true,
        "id": "YJb4DtIczC4K",
        "colab_type": "text"
      },
      "cell_type": "markdown",
      "source": [
        "Nesta aula vamos fazer alguns exercícios de Python e aprender a trabalhar com três módulos:\n",
        "- **Numpy** - módulo de python para cálculos numéricos e matriciais.\n",
        "- **Pandas** - móduo de python para executar agregações, filtragens manipulação de dados sequenciais ou tabulares (semelhante ao executado pelas queries em SQL)\n",
        "- **Sklearn** - módulo de machine learning/Data mining\n"
      ]
    },
    {
      "metadata": {
        "id": "PbeVvwMdzC4M",
        "colab_type": "text"
      },
      "cell_type": "markdown",
      "source": [
        "## Exemplos básicos do uso de python\n"
      ]
    },
    {
      "metadata": {
        "id": "2JrVjrn-zC4M",
        "colab_type": "code",
        "colab": {}
      },
      "cell_type": "code",
      "source": [
        "# Hello World\n",
        "\n",
        "a = 20\n",
        "print(a)\n",
        "print(a**2)"
      ],
      "execution_count": 0,
      "outputs": []
    },
    {
      "metadata": {
        "scrolled": true,
        "id": "06Ch1rkdzC4T",
        "colab_type": "code",
        "colab": {}
      },
      "cell_type": "code",
      "source": [
        "# simple print\n",
        "\n",
        "a = a+20\n",
        "a"
      ],
      "execution_count": 0,
      "outputs": []
    },
    {
      "metadata": {
        "id": "OiYnnqCvzC4Y",
        "colab_type": "code",
        "colab": {
          "base_uri": "https://localhost:8080/",
          "height": 34
        },
        "outputId": "c10e1db1-6395-4809-9983-3a5cc3484bbf"
      },
      "cell_type": "code",
      "source": [
        "#Criar uma lista (array)\n",
        "A= [1,2,3,4,5]\n",
        "A[0]"
      ],
      "execution_count": 10,
      "outputs": [
        {
          "output_type": "execute_result",
          "data": {
            "text/plain": [
              "1"
            ]
          },
          "metadata": {
            "tags": []
          },
          "execution_count": 10
        }
      ]
    },
    {
      "metadata": {
        "id": "E2apNNbczC4d",
        "colab_type": "code",
        "colab": {}
      },
      "cell_type": "code",
      "source": [
        "'''\n",
        "Random Functions\n",
        "'''\n",
        "import random\n",
        "\n",
        "# gerar arrays\n",
        "a = [10]*10\n",
        "a\n",
        "\n",
        "# Gerar arrays de numeros aleatórios... pode nao ser tão simples. \n",
        "# Vejam as diferenças:\n",
        "\n",
        "b = [random.random()]*10\n",
        "c = [random.random()*10]\n",
        "\n",
        "print (len(b))\n",
        "print (c)\n",
        "\n",
        "# gerar um array aleatório\n",
        "d = [random.random() for i in range(10)]\n",
        "d\n"
      ],
      "execution_count": 0,
      "outputs": []
    },
    {
      "metadata": {
        "id": "41o1GbxuzC4h",
        "colab_type": "code",
        "colab": {}
      },
      "cell_type": "code",
      "source": [
        "# o que usámos chama-se \"list comprehensions\"\n",
        "# O seguinte código: \n",
        "\n",
        "a = [i**2 for i in range(0,10)]\n",
        "a\n",
        "\n",
        "# É igual a:\n",
        "\n",
        "b = []\n",
        "for i in range(0,10):\n",
        "    b = b + [i**2]\n",
        "\n",
        "b\n",
        "\n",
        "print(a)\n",
        "print(b)"
      ],
      "execution_count": 0,
      "outputs": []
    },
    {
      "metadata": {
        "id": "gn0DiYeXzC4l",
        "colab_type": "code",
        "colab": {}
      },
      "cell_type": "code",
      "source": [
        "# slice de arrays\n",
        "print(a[1:])\n",
        "print(a[4:5])\n",
        "print(a[5:8])\n",
        "print(a[-2::-2])\n",
        "print(a[-1:0:-1])\n",
        "print(a[5:0:-1])\n",
        "\n"
      ],
      "execution_count": 0,
      "outputs": []
    },
    {
      "metadata": {
        "id": "uH9RZo1ZzC4z",
        "colab_type": "code",
        "colab": {}
      },
      "cell_type": "code",
      "source": [
        "# filtered comprehensive lists \n",
        "\n",
        "N = [0, 1, 4, 9, 16, 25, 36, 49, 64, 81]\n",
        "[n-1 for n in N if n%2==1]\n"
      ],
      "execution_count": 0,
      "outputs": []
    },
    {
      "metadata": {
        "id": "E1L4lZ2zzC4p",
        "colab_type": "code",
        "colab": {}
      },
      "cell_type": "code",
      "source": [
        "#criar uma função\n",
        "def teste(N):\n",
        "    X = []\n",
        "    for n in N:\n",
        "        X.append(n**2)\n",
        "    return X\n",
        "\n",
        "#chamar a função\n",
        "teste([3,4,5])"
      ],
      "execution_count": 0,
      "outputs": []
    },
    {
      "metadata": {
        "id": "ieBbaISgzC45",
        "colab_type": "code",
        "colab": {}
      },
      "cell_type": "code",
      "source": [
        ""
      ],
      "execution_count": 0,
      "outputs": []
    },
    {
      "metadata": {
        "id": "2fXb1VjYzC5C",
        "colab_type": "code",
        "colab": {}
      },
      "cell_type": "code",
      "source": [
        "#Criar um dicionário\n",
        "\n",
        "A = {\"foo\":123,\"bar\":{\"nn\":123}}\n",
        "print(A.keys())\n",
        "print(A.values())\n",
        "print(A.items())\n",
        "print(A['bar'])"
      ],
      "execution_count": 0,
      "outputs": []
    },
    {
      "metadata": {
        "id": "rXEgJ7PBzC5H",
        "colab_type": "code",
        "colab": {}
      },
      "cell_type": "code",
      "source": [
        "# arrays dentro de arrays....\n",
        "a = [[1,2,3],[4,5,6]]\n",
        "\n",
        "# a[2,3] não funciona\n",
        "\n",
        "a[1][2]\n",
        "\n",
        "# haverá uma forma mais fácil e eficiente de criar/manusear matrizes?"
      ],
      "execution_count": 0,
      "outputs": []
    },
    {
      "metadata": {
        "id": "72RBe7SfzC5L",
        "colab_type": "code",
        "colab": {}
      },
      "cell_type": "code",
      "source": [
        "# Numpy\n",
        "\n",
        "import numpy as np\n",
        "\n",
        "X = np.array([[1,2,3],[4,5,6]])\n",
        "Y = np.array([[1,2,2]])\n",
        "Z = np.array([[1],[2],[3]])\n",
        "\n",
        "print(X.shape)\n",
        "print(Y.shape)\n",
        "print(Z.shape)\n",
        "\n",
        "\n",
        "#matriz transposta\n",
        "Z.T"
      ],
      "execution_count": 0,
      "outputs": []
    },
    {
      "metadata": {
        "id": "IXiCjaY0zC5Q",
        "colab_type": "code",
        "colab": {}
      },
      "cell_type": "code",
      "source": [
        "#gerar matrizes e arrays random\n",
        "\n",
        "A = np.random.random([4,2])\n",
        "\n",
        "x = np.array([10,0])\n",
        "\n",
        "y = A*x\n",
        "\n",
        "print(A)\n",
        "print(x)\n",
        "print(y)"
      ],
      "execution_count": 0,
      "outputs": []
    },
    {
      "metadata": {
        "id": "DvEqOsb8zC5X",
        "colab_type": "code",
        "colab": {}
      },
      "cell_type": "code",
      "source": [
        "# A criação de matrizes pode ser tão complexa quanto se queira:\n",
        "\n",
        "B = np.array([np.ones([4]), np.ones([4])+1, np.ones([4])+2, np.ones([4])+3]).T\n",
        "B\n"
      ],
      "execution_count": 0,
      "outputs": []
    },
    {
      "metadata": {
        "id": "1bJ-YD91zC5c",
        "colab_type": "code",
        "colab": {}
      },
      "cell_type": "code",
      "source": [
        "# multiplicação de arrays pode não ser intuitiva (broadcast!)\n",
        "\n",
        "x = (np.array([n for n in range(10)])*100).reshape([-1,1])\n",
        "\n",
        "print(x)\n",
        "\n",
        "B = np.random.random([10,3])\n",
        "\n",
        "print(B)\n",
        "\n",
        "B*x\n"
      ],
      "execution_count": 0,
      "outputs": []
    },
    {
      "metadata": {
        "id": "Ih43dCPT-7c6",
        "colab_type": "code",
        "colab": {}
      },
      "cell_type": "code",
      "source": [
        "# reshape\n",
        "\n",
        "print(np.array([range(10)]).reshape(2,5))\n",
        "print(np.array([range(5)]).reshape(-1,5))\n",
        "\n"
      ],
      "execution_count": 0,
      "outputs": []
    },
    {
      "metadata": {
        "id": "usJhNRnnzC5v",
        "colab_type": "code",
        "colab": {}
      },
      "cell_type": "code",
      "source": [
        "#exemplos de broadcast\n",
        "\n",
        "X = np.array([range(10)]).reshape(2,5)\n",
        "Y = np.array([10]*5).reshape(-1,5)\n",
        "\n",
        "\n",
        "print(X)\n",
        "print(\"----\")\n",
        "print(Y)\n",
        "print(\"----\")\n",
        "\n",
        "F = X*10\n",
        "print(\"F:\", F)\n",
        "print(\"----\")\n",
        "\n",
        "Z = X*Y\n",
        "\n",
        "print(X.shape)\n",
        "print(Y.shape)\n",
        "\n",
        "print(\"Z:\", Z)"
      ],
      "execution_count": 0,
      "outputs": []
    },
    {
      "metadata": {
        "id": "sIA0y2o0zC5y",
        "colab_type": "code",
        "colab": {}
      },
      "cell_type": "code",
      "source": [
        "A = np.array([[1,2,3,4,5,6],[1,1,1,1,1,1]])\n",
        "B = np.array([[3],[4]])\n",
        "\n",
        "A*B              "
      ],
      "execution_count": 0,
      "outputs": []
    },
    {
      "metadata": {
        "id": "HU2zGCwnzC53",
        "colab_type": "code",
        "colab": {}
      },
      "cell_type": "code",
      "source": [
        "#exemplo de broadcast 2\n",
        "Y = np.array([[10], [100]])\n",
        "print(X)\n",
        "print(Y)\n",
        "\n",
        "Z = X*Y\n",
        "print(X.shape)\n",
        "print(Y.shape)\n",
        "\n",
        "Z"
      ],
      "execution_count": 0,
      "outputs": []
    },
    {
      "metadata": {
        "id": "1w89gJnFzC55",
        "colab_type": "code",
        "colab": {}
      },
      "cell_type": "code",
      "source": [
        "#arredondar valores\n",
        "\n",
        "A = np.round(np.random.random([6,3])*4)\n",
        "A"
      ],
      "execution_count": 0,
      "outputs": []
    },
    {
      "metadata": {
        "id": "-DFix3L0zC59",
        "colab_type": "code",
        "colab": {}
      },
      "cell_type": "code",
      "source": [
        "b = np.array([[1,1,1]])\n",
        "b"
      ],
      "execution_count": 0,
      "outputs": []
    },
    {
      "metadata": {
        "id": "pr4EkYPczC5_",
        "colab_type": "code",
        "colab": {}
      },
      "cell_type": "code",
      "source": [
        "# Multiplicação de Matrizes\n",
        "\n",
        "print(A)\n",
        "print(b)\n",
        "np.matmul(A,b.T)"
      ],
      "execution_count": 0,
      "outputs": []
    },
    {
      "metadata": {
        "id": "dH-FMvvxzC6E",
        "colab_type": "text"
      },
      "cell_type": "markdown",
      "source": [
        "# TPC 0 (entrega na próxima aula - 20 min MAX)\n",
        "\n",
        "### Dominar a linguagem Python\n",
        "#### ENTREGA 22/10/2018\n",
        "\n",
        "----\n",
        "\n",
        "Uma string S composta de N caracteres é considerada como correta se qualquer uma das seguintes condições for verdadeira:\n",
        "\n",
        "- S for vazia;\n",
        "- S tem a forma \"(U)\" ou \"[U]\" ou \"{U}\" onde U é também uma string correta;\n",
        "- S tem a forma \"VW\" onde V e W são strings corretas.\n",
        "\n",
        "\n",
        "Por exemplo, a string \"{[() ()]}\" é considerada correta, mas \"([) ()]\" não é.\n",
        "\n",
        "Escreva uma função:\n",
        "\n",
        "```def solution(S)```\n",
        "\n",
        "que, dada uma sequência S com N caracteres, retorna 1 se S estiver correta e 0 caso contrário.\n",
        "\n",
        "Por exemplo, dado S = \"{[() ()]}\", a função deve retornar 1 e dado S = \"([) ()]\", a função deve retornar 0, como explicado acima.\n",
        "\n",
        "Assuma que:\n",
        "\n",
        "- N é um número inteiro dentro do intervalo [0..200,000];\n",
        "- A string S consiste apenas nos seguintes caracteres: \"(\", \"{\", \"[\", \"]\", \"}\" e / ou \")\".\n",
        "\n",
        "\n"
      ]
    },
    {
      "metadata": {
        "id": "tl4w710azC6E",
        "colab_type": "code",
        "colab": {
          "base_uri": "https://localhost:8080/",
          "height": 102
        },
        "outputId": "c2fec126-7dbd-42b8-ca59-014069b5fc4a"
      },
      "cell_type": "code",
      "source": [
        "#Definição dos caracteres válidos na string para uso no controlo \n",
        "simbolos_validos = [\"(\", \"[\", \"{\", \"}\", \"]\", \")\"]\n",
        "\n",
        "\n",
        "def solution(S):\n",
        "    if not S:\n",
        "        return 1\n",
        "\n",
        "#O programa funciona caso apareça um simbolo não válido na \n",
        "#mesma sem este controlo pois a str nunca fica vazia no entanto \n",
        "#com este controlo adicional pode-se afirma que o programa não funciona \n",
        "#mesmo pela string conter um caracter não válido\n",
        "      \n",
        "    i = 0\n",
        "    while len(S) != i:\n",
        "        if not (S[i] in simbolos_validos):\n",
        "          return 0\n",
        "        i += 1\n",
        "\n",
        "    while len(S) != 0:\n",
        "        str = S\n",
        "        S = S.replace('()', '').replace('[]', '').replace('{}', '')\n",
        "        if str is S:\n",
        "            return 0\n",
        "\n",
        "    return 1\n",
        "\n",
        "\n",
        "print(solution('{[()()]}'))\n",
        "print(solution('([) ()]'))\n",
        "print(solution('{[][(){}()][]}'))\n",
        "print(solution(''))\n",
        "print(solution ('{([[]]a)}'))"
      ],
      "execution_count": 54,
      "outputs": [
        {
          "output_type": "stream",
          "text": [
            "1\n",
            "0\n",
            "1\n",
            "1\n",
            "0\n"
          ],
          "name": "stdout"
        }
      ]
    }
  ]
}