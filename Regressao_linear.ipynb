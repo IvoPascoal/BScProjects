{
  "nbformat": 4,
  "nbformat_minor": 0,
  "metadata": {
    "colab": {
      "name": "Regressao_linear.ipynb",
      "version": "0.3.2",
      "provenance": [],
      "collapsed_sections": [],
      "include_colab_link": true
    },
    "kernelspec": {
      "name": "python2",
      "display_name": "Python 2"
    }
  },
  "cells": [
    {
      "cell_type": "markdown",
      "metadata": {
        "id": "view-in-github",
        "colab_type": "text"
      },
      "source": [
        "<a href=\"https://colab.research.google.com/github/IvoPascoal/IvoP_20160462/blob/master/Regressao_linear.ipynb\" target=\"_parent\"><img src=\"https://colab.research.google.com/assets/colab-badge.svg\" alt=\"Open In Colab\"/></a>"
      ]
    },
    {
      "metadata": {
        "id": "TrmutQJ41lw4",
        "colab_type": "code",
        "outputId": "1fc77588-c809-416a-959b-f2c439d66ce0",
        "colab": {
          "base_uri": "https://localhost:8080/",
          "height": 34
        }
      },
      "cell_type": "code",
      "source": [
        "import numpy as np \n",
        "import pandas as pd\n",
        "from pandas import Series\n",
        "import seaborn as sns\n",
        "import matplotlib.pyplot as plt\n",
        "from sklearn.metrics import mean_squared_error, mean_absolute_error, r2_score\n",
        "from sklearn.linear_model import LinearRegression\n",
        "from sklearn import datasets, linear_model\n",
        "from math import sqrt\n",
        "from sklearn.preprocessing import MinMaxScaler\n",
        "\n",
        "\n",
        "\n",
        "url = 'https://raw.githubusercontent.com/IvoPascoal/IvoP_20160462/master/DUQ_hourly.csv'\n",
        "df1 = pd.read_csv(url, index_col=[0], parse_dates=[0])\n",
        "\n",
        "'''df1.plot(style='.', figsize=(20,10), color= 'b', title='Esparsidade')'''\n",
        "\n",
        "\n",
        "\n",
        "df1 = df1.groupby(pd.Grouper(freq=\"D\")).sum()\n",
        "\n",
        "\n",
        "def create_features(df1, label=None):\n",
        "  \n",
        "  df1 = df1.copy()\n",
        "  df1['Data'] = df1.index\n",
        "  df1['Dia da Semana'] = df1['Data'].dt.dayofweek\n",
        "  df1['Trimestre'] = df1['Data'].dt.quarter\n",
        "  df1['Mês'] = df1['Data'].dt.month\n",
        "  df1['Ano'] = df1['Data'].dt.year\n",
        "  df1['Dia do Ano'] = df1['Data'].dt.dayofyear\n",
        "  df1['Dia do Mês'] = df1['Data'].dt.day\n",
        "\n",
        "    \n",
        "  X = df1[['Dia da Semana','Trimestre','Mês','Ano','Dia do Ano','Dia do Mês']]\n",
        "    \n",
        "  if label:\n",
        "    y = df1[label]\n",
        "    return X, y\n",
        "  return X\n",
        "\n",
        "X, y = create_features(df1, label='DUQ_MW')\n",
        "\n",
        "features_and_target = pd.concat([X, y], axis=1)\n",
        "\n",
        "features_and_target.head(100000)\n",
        "\n",
        "treino = features_and_target.loc[:'2017-12-31']\n",
        "teste = features_and_target.loc['2018-01-01':]\n",
        "\n",
        "X_treino = pd.DataFrame(treino.iloc[:,:-1])\n",
        "y_treino = pd.DataFrame(treino['DUQ_MW'])\n",
        "\n",
        "X_teste = pd.DataFrame(teste.iloc[:,:-1])\n",
        "y_teste = pd.DataFrame(teste['DUQ_MW'])\n",
        "\n",
        "scaler = MinMaxScaler(feature_range=(0, 1))\n",
        "scaler = scaler.fit(y_treino)\n",
        "\n",
        "normalized_y_treino = scaler.transform(y_treino)\n",
        "\n",
        "normalized_y_teste = scaler.transform(y_teste)\n",
        "\n",
        "regr = linear_model.LinearRegression()\n",
        "\n",
        "regr.fit(X_treino, normalized_y_treino)\n",
        "\n",
        "y_pred = regr.predict(X_teste)\n",
        "\n",
        "inversed_y_pred = scaler.inverse_transform(y_pred)\n",
        "inversed_y_pred.shape #array 215,1\n",
        "                                                                                                                           \n",
        "mean_squared_error(y_true=teste['DUQ_MW'], y_pred=inversed_y_pred)\n",
        "\n",
        "mean_absolute_error(y_true=teste['DUQ_MW'], y_pred=inversed_y_pred)\n",
        "\n",
        "def mean_absolute_percentage_error(y_true, y_pred): \n",
        "    \"\"\"Calculates MAPE given y_true and y_pred\"\"\"\n",
        "    y_true, y_pred = np.array(y_true), np.array(y_pred)\n",
        "    return np.mean(np.abs((y_true - y_pred) / y_true)) * 100\n",
        "\n",
        "mean_absolute_percentage_error(y_true=y_teste, y_pred=inversed_y_pred)\n",
        "\n",
        "r2_score(y_teste.values, inversed_y_pred)\n",
        "\n",
        "verdadeiro_previsto = pd.DataFrame({'Actual': y_teste, 'Predicted': inversed_y_pred})  \n",
        "\n",
        "plt.scatter(X_teste, y_teste,  color='black')\n",
        "plt.plot(y_teste, y_pred, color='blue', linewidth=3)\n",
        "\n",
        "plt.xticks(())\n",
        "plt.yticks(())\n",
        "\n",
        "plt.show()\n",
        "\n",
        "\n",
        "\n",
        "\n"
      ],
      "execution_count": 139,
      "outputs": [
        {
          "output_type": "execute_result",
          "data": {
            "text/plain": [
              "0.013568990129789849"
            ]
          },
          "metadata": {
            "tags": []
          },
          "execution_count": 139
        }
      ]
    }
  ]
}