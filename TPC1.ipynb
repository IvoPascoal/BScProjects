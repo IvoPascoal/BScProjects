{
  "nbformat": 4,
  "nbformat_minor": 0,
  "metadata": {
    "colab": {
      "name": "TPC1.ipynb",
      "version": "0.3.2",
      "provenance": [],
      "include_colab_link": true
    },
    "kernelspec": {
      "name": "python2",
      "display_name": "Python 2"
    }
  },
  "cells": [
    {
      "cell_type": "markdown",
      "metadata": {
        "id": "view-in-github",
        "colab_type": "text"
      },
      "source": [
        "[View in Colaboratory](https://colab.research.google.com/github/IvoPascoal/IvoP_20160462/blob/master/TPC1.ipynb)"
      ]
    },
    {
      "metadata": {
        "id": "uZCA8c_Y11AI",
        "colab_type": "code",
        "colab": {}
      },
      "cell_type": "code",
      "source": [
        "#Definição dos caracteres válidos na string para uso no controlo \n",
        "simbolos_validos = [\"(\", \"[\", \"{\", \"}\", \"]\", \")\"]\n",
        "\n",
        "\n",
        "def solution(S):\n",
        "    if not S:\n",
        "        return 1\n",
        "\n",
        "#O programa funciona caso apareça um simbolo não válido na \n",
        "#mesma sem este controlo pois a str nunca fica vazia no entanto \n",
        "#com este controlo adicional pode-se afirma que o programa não funciona \n",
        "#mesmo pela string conter um caracter não válido\n",
        "      \n",
        "    i = 0\n",
        "    while len(S) != i:\n",
        "        if not (S[i] in simbolos_validos):\n",
        "          return 0\n",
        "        i += 1\n",
        "\n",
        "    while len(S) != 0:\n",
        "        str = S\n",
        "        S = S.replace('()', '').replace('[]', '').replace('{}', '')\n",
        "        if str is S:\n",
        "            return 0\n",
        "\n",
        "    return 1\n",
        "\n",
        "\n",
        "print(solution('{[()()]}'))\n",
        "print(solution('([) ()]'))\n",
        "print(solution('{[][(){}()][]}'))\n",
        "print(solution(''))\n",
        "print(solution ('{([[]]a)}'))"
      ],
      "execution_count": 0,
      "outputs": []
    }
  ]
}